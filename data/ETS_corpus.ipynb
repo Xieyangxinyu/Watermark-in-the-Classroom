{
 "cells": [
  {
   "cell_type": "markdown",
   "metadata": {},
   "source": [
    "# Code to Process ETS Corpus data\n"
   ]
  },
  {
   "cell_type": "code",
   "execution_count": 91,
   "metadata": {},
   "outputs": [
    {
     "name": "stdout",
     "output_type": "stream",
     "text": [
      "['tools', 'index.html', '.DS_Store', 'docs', 'data']\n"
     ]
    }
   ],
   "source": [
    "import pandas as pd\n",
    "import numpy as np\n",
    "import os\n",
    "import pickle\n",
    "import re\n",
    "print(os.listdir('ETS_corpus'))"
   ]
  },
  {
   "cell_type": "code",
   "execution_count": 92,
   "metadata": {},
   "outputs": [],
   "source": [
    "def read_file(file_path):\n",
    "    with open(file_path, 'r', encoding='utf-8') as file:\n",
    "        content = file.read()\n",
    "    # content = re.sub(r'^[^a-zA-Z]+', '', content)\n",
    "    content = content.lstrip('\\n')\n",
    "    content = re.sub(r'\\s+$', '', content)\n",
    "    content = content + \"\\n\"\n",
    "    return content"
   ]
  },
  {
   "cell_type": "code",
   "execution_count": null,
   "metadata": {},
   "outputs": [],
   "source": [
    "df = pd.read_csv('ETS_corpus/data/text/index.csv', delimiter=\",\", header=0)\n",
    "df['Filepath'] = df['Filename'].apply(lambda x: os.path.join('ETS_corpus/data/text/responses/original', x))\n",
    "df['Human'] = df['Filepath'].apply(read_file)\n",
    "df.drop(columns=['Filepath'], inplace=True)\n",
    "\n",
    "prompts = {}\n",
    "for i in range(1, 9):\n",
    "    file_path = f'ETS_corpus/data/text/prompts/P{i}.txt'\n",
    "    res = read_file(file_path).split('\\n')\n",
    "    prompts[f'P{i}'] = res[0] + '\\n' + res[2]\n",
    "\n",
    "df['Topic'] = df['Prompt'].map(prompts)\n",
    "df.to_json('ETS_corpus.json', orient='records', indent=4)\n"
   ]
  }
 ],
 "metadata": {
  "kernelspec": {
   "display_name": "pytorch",
   "language": "python",
   "name": "python3"
  },
  "language_info": {
   "codemirror_mode": {
    "name": "ipython",
    "version": 3
   },
   "file_extension": ".py",
   "mimetype": "text/x-python",
   "name": "python",
   "nbconvert_exporter": "python",
   "pygments_lexer": "ipython3",
   "version": "3.10.14"
  }
 },
 "nbformat": 4,
 "nbformat_minor": 2
}
