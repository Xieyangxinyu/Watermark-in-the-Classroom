{
 "cells": [
  {
   "cell_type": "markdown",
   "metadata": {},
   "source": [
    "# Code to Process LOCNESS Corpus data"
   ]
  },
  {
   "cell_type": "code",
   "execution_count": 105,
   "metadata": {},
   "outputs": [],
   "source": [
    "import pandas as pd\n",
    "import numpy as np\n",
    "import os\n",
    "import pickle\n",
    "import re\n",
    "import json"
   ]
  },
  {
   "cell_type": "code",
   "execution_count": null,
   "metadata": {},
   "outputs": [
    {
     "name": "stdout",
     "output_type": "stream",
     "text": [
      "['BRSUR1.txt', 'BRSUR2.txt', 'BRSUR3.txt', 'USARG.txt', 'USMIXED.txt', 'alevels1.txt', 'alevels2.txt', 'alevels3.txt', 'alevels4.txt', 'alevels5.txt', 'alevels6.txt', 'alevels7.txt', 'alevels8.txt', 'alevels9.txt']\n"
     ]
    }
   ],
   "source": [
    "data_root = 'LOCNESS-corpus-files'\n",
    "txt_files = [f for f in os.listdir(data_root) if f.endswith('.txt')]\n",
    "txt_files.sort()"
   ]
  },
  {
   "cell_type": "code",
   "execution_count": 108,
   "metadata": {},
   "outputs": [],
   "source": [
    "def pattern_map(file_name):\n",
    "    if 'alevels' in file_name:\n",
    "        if '1' in file_name:\n",
    "            return r'(Transport \\d{2})\\s*(.*?)\\s*(?=Transport|$)'\n",
    "        if '2' in file_name:\n",
    "            return r'(Parliamentary system \\d{2})\\s*(.*?)\\s*(?=Parliamentary system|$)'\n",
    "        if '3' in file_name:\n",
    "            return r'(Fox hunting - FH\\d{2})\\s*(.*?)\\s*(?=Fox hunting - FH|$)'\n",
    "        if '4' in file_name:\n",
    "            return r'(Boxing - B\\d{2})\\s*(.*?)\\s*(?=Boxing - B|$)'\n",
    "        if '5' in file_name:\n",
    "            return r'(0\\d{2})\\s*(.*?)\\s*(?=0\\d{2})'\n",
    "    return r'(<ICLE[^>]*>)\\s*(.*?)\\s*(?=<ICLE|$)'"
   ]
  },
  {
   "cell_type": "code",
   "execution_count": null,
   "metadata": {},
   "outputs": [
    {
     "name": "stdout",
     "output_type": "stream",
     "text": [
      "33 papers in BRSUR1.txt\n",
      "59535 words in BRSUR1.txt\n",
      "\n",
      "24 papers in BRSUR2.txt\n",
      "17084 words in BRSUR2.txt\n",
      "\n",
      "33 papers in BRSUR3.txt\n",
      "18986 words in BRSUR3.txt\n",
      "\n",
      "175 papers in USARG.txt\n",
      "149520 words in USARG.txt\n",
      "\n",
      "33 papers in USMIXED.txt\n",
      "18626 words in USMIXED.txt\n",
      "\n",
      "16 papers in alevels1.txt\n",
      "7921 words in alevels1.txt\n",
      "\n",
      "2 papers in alevels2.txt\n",
      "1482 words in alevels2.txt\n",
      "\n",
      "6 papers in alevels3.txt\n",
      "2891 words in alevels3.txt\n",
      "\n",
      "14 papers in alevels4.txt\n",
      "7283 words in alevels4.txt\n",
      "\n",
      "12 papers in alevels5.txt\n",
      "7372 words in alevels5.txt\n",
      "\n",
      "10 papers in alevels6.txt\n",
      "4653 words in alevels6.txt\n",
      "\n",
      "10 papers in alevels7.txt\n",
      "5103 words in alevels7.txt\n",
      "\n",
      "30 papers in alevels8.txt\n",
      "15404 words in alevels8.txt\n",
      "\n",
      "13 papers in alevels9.txt\n",
      "6481 words in alevels9.txt\n",
      "\n"
     ]
    }
   ],
   "source": [
    "papers = []\n",
    "for file_name in txt_files:\n",
    "    file_path = os.path.join(data_root, file_name)\n",
    "    with open(file_path, 'r', encoding='ISO-8859-1') as file:\n",
    "        content = file.read()\n",
    "    # print(content)\n",
    "    # pattern = re.compile(, re.DOTALL)\n",
    "    pat = pattern_map(file_name)\n",
    "    pattern = re.compile(pat, re.DOTALL)\n",
    "    current_papers = [{\"Filename\": file_name, \"essay_id\": match.group(1), \"Human\": match.group(2) + '\\n'} for match in pattern.finditer(content)]\n",
    "    papers.extend(current_papers)\n",
    "    \n",
    "    n = len(current_papers)\n",
    "    words = sum([len(paper['Human'].split()) for paper in current_papers])\n",
    "json_data = json.dump(papers, open(\"LOCNESS.json\", \"w\"), indent=4)\n"
   ]
  }
 ],
 "metadata": {
  "kernelspec": {
   "display_name": "pytorch",
   "language": "python",
   "name": "python3"
  },
  "language_info": {
   "codemirror_mode": {
    "name": "ipython",
    "version": 3
   },
   "file_extension": ".py",
   "mimetype": "text/x-python",
   "name": "python",
   "nbconvert_exporter": "python",
   "pygments_lexer": "ipython3",
   "version": "3.10.14"
  }
 },
 "nbformat": 4,
 "nbformat_minor": 2
}
